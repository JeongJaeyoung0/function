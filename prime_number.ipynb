{
 "cells": [
  {
   "cell_type": "code",
   "execution_count": 1,
   "metadata": {
    "executionInfo": {
     "elapsed": 361,
     "status": "ok",
     "timestamp": 1626740121608,
     "user": {
      "displayName": "Jaeyoung Jeong",
      "photoUrl": "https://lh3.googleusercontent.com/a-/AOh14GhsK0gzIyCaqt3838rNBxCPlb10R9TN9Jlm1Cp3=s64",
      "userId": "14387671912167104849"
     },
     "user_tz": -540
    },
    "id": "FztpvV0-PSbM"
   },
   "outputs": [],
   "source": [
    "def prime_number(n): # 소수(2부터 n까지 소수 리스트 반환)\n",
    "    import math\n",
    "    \n",
    "    t=[True for i in range(n+1)] # 모든 수 True로 전환\n",
    "    \n",
    "    # 에라토스테네스의 체 (소수를 찾는 방법)\n",
    "    for i in range(2,int(math.sqrt(n))+1): # 2부터 n^2+1 까지만 확인\n",
    "        if t[i]==True: # i가 소수인 경우\n",
    "            a=2\n",
    "            while i*a<=n:\n",
    "                t[i*a]=False # i의 배수는 False\n",
    "                a+=1\n",
    "                \n",
    "    return[i for i in range(2,n+1) if t[i]] # True 위치 값만 숫자로 return"
   ]
  },
  {
   "cell_type": "code",
   "execution_count": 2,
   "metadata": {},
   "outputs": [
    {
     "data": {
      "text/plain": [
       "[2, 3, 5, 7, 11, 13, 17, 19]"
      ]
     },
     "execution_count": 2,
     "metadata": {},
     "output_type": "execute_result"
    }
   ],
   "source": [
    "prime_number(20)"
   ]
  }
 ],
 "metadata": {
  "colab": {
   "authorship_tag": "ABX9TyN3a8gBGCIqKEKyX068X3GO",
   "collapsed_sections": [],
   "name": "prime_number.ipynb",
   "provenance": []
  },
  "kernelspec": {
   "display_name": "Python 3",
   "language": "python",
   "name": "python3"
  },
  "language_info": {
   "codemirror_mode": {
    "name": "ipython",
    "version": 3
   },
   "file_extension": ".py",
   "mimetype": "text/x-python",
   "name": "python",
   "nbconvert_exporter": "python",
   "pygments_lexer": "ipython3",
   "version": "3.8.5"
  }
 },
 "nbformat": 4,
 "nbformat_minor": 1
}
